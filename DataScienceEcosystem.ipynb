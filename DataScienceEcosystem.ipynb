{
 "cells": [
  {
   "cell_type": "markdown",
   "id": "8b95ddd0-3946-4f63-bb95-29893c01e573",
   "metadata": {},
   "source": [
    "# Data Science Tools and Ecosystem\n"
   ]
  },
  {
   "cell_type": "markdown",
   "id": "466f3b6f-adcf-410a-ac69-0332d7499419",
   "metadata": {},
   "source": [
    "# In this notebook, Data Science Tools and Ecosystem are summarized."
   ]
  },
  {
   "cell_type": "markdown",
   "id": "f4969578-15ba-4c44-950e-297c8c0c6c7a",
   "metadata": {},
   "source": [
    "**Objectives:**"
   ]
  },
  {
   "cell_type": "markdown",
   "id": "6d240438-b17e-4321-b3a2-09160f8ac932",
   "metadata": {},
   "source": [
    "* Python\n",
    "* R\n",
    "* SQL"
   ]
  },
  {
   "cell_type": "markdown",
   "id": "6bd93257-0b30-4262-bf51-10405e18d3ee",
   "metadata": {},
   "source": [
    "# Some of the popular languages that Data Scientists use are:\n",
    "\n",
    "1. Python\n",
    "2. R\n",
    "3. SQL"
   ]
  },
  {
   "cell_type": "markdown",
   "id": "ff283214-49ce-4d30-87c2-729eb28fa483",
   "metadata": {},
   "source": [
    "# Some of the commonly used libraries used by Data Scientists include:"
   ]
  },
  {
   "cell_type": "markdown",
   "id": "e7ceaa50-7390-4a39-bdb1-88c2014fa34b",
   "metadata": {},
   "source": [
    "1. NumPy\n",
    "2. Panndas\n",
    "3. SciPy\n",
    "4. Matplotlip\n",
    "5. Scikit"
   ]
  },
  {
   "cell_type": "markdown",
   "id": "f262665a-67a6-4215-9731-0f37f9f63e53",
   "metadata": {},
   "source": [
    "| Data Science Tools|\n",
    "|-------------------|\n",
    "| Juyter Notebooks |\n",
    "|Pytorch|\n",
    "|MLFlow|"
   ]
  },
  {
   "cell_type": "markdown",
   "id": "043e43b9-1043-4584-b480-e2b77d40294b",
   "metadata": {},
   "source": [
    "### Below are a few examples of evaluating arithmetic expressions in Python"
   ]
  },
  {
   "cell_type": "code",
   "execution_count": 19,
   "id": "da450a5a-b834-4543-bb7f-d26f5f2ea596",
   "metadata": {},
   "outputs": [
    {
     "data": {
      "text/plain": [
       "17"
      ]
     },
     "execution_count": 19,
     "metadata": {},
     "output_type": "execute_result"
    }
   ],
   "source": [
    "# This a simple arithmetic expression to mutiply then add integers\n",
    "(3*4)+5"
   ]
  },
  {
   "cell_type": "code",
   "execution_count": 21,
   "id": "fc327edf-4ef1-4b54-8e98-5c8b847c9543",
   "metadata": {},
   "outputs": [
    {
     "name": "stdout",
     "output_type": "stream",
     "text": [
      "200 minutes is  3 hours and  20 minutes.\n"
     ]
    }
   ],
   "source": [
    "# This will convert 200 minutes to hours by diving by 60.\n",
    "h = 200 // 60\n",
    "m = 200 % 60\n",
    "print(\"200 minutes is \", h, \"hours and \", m, \"minutes.\" )"
   ]
  },
  {
   "cell_type": "markdown",
   "id": "be73273e-bb89-4427-a10d-c83305bfb855",
   "metadata": {},
   "source": [
    "## Author\n",
    "Minoo Zarsav"
   ]
  },
  {
   "cell_type": "code",
   "execution_count": null,
   "id": "b6644ffe-02d3-4043-a9e4-5c8600c6fa51",
   "metadata": {},
   "outputs": [],
   "source": []
  }
 ],
 "metadata": {
  "kernelspec": {
   "display_name": "Python [conda env:base] *",
   "language": "python",
   "name": "conda-base-py"
  },
  "language_info": {
   "codemirror_mode": {
    "name": "ipython",
    "version": 3
   },
   "file_extension": ".py",
   "mimetype": "text/x-python",
   "name": "python",
   "nbconvert_exporter": "python",
   "pygments_lexer": "ipython3",
   "version": "3.12.7"
  }
 },
 "nbformat": 4,
 "nbformat_minor": 5
}
